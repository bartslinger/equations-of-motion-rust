{
 "cells": [
  {
   "cell_type": "markdown",
   "id": "2ec2c5e1-183f-4c90-8b98-ce0370c03df9",
   "metadata": {},
   "source": [
    "# Equations of Motion for a Rigid Body\n"
   ]
  },
  {
   "cell_type": "code",
   "execution_count": 2,
   "id": "b2afc25f-22fd-432d-8931-285708f63c1b",
   "metadata": {},
   "outputs": [],
   "source": [
    ":dep ndarray = { version = \"0.16.1\" }\n",
    ":dep plotly = { version = \"0.10.0\" }\n",
    ":dep nalgebra = { version = \"0.33.1\" }\n",
    "extern crate ndarray;\n",
    "extern crate plotly;\n",
    "extern crate nalgebra;\n",
    "\n",
    "use ndarray::{Array, Array2};\n",
    "use nalgebra::{SMatrix, SVector};\n",
    "use plotly::common::Mode;\n",
    "use plotly::layout::{Layout};\n",
    "use plotly::{Plot, Scatter};"
   ]
  },
  {
   "cell_type": "code",
   "execution_count": 61,
   "id": "48be63e2-c46b-4771-b8d8-aca4d21bce7c",
   "metadata": {},
   "outputs": [],
   "source": [
    "// Define the state vector\n",
    "// 0 u\n",
    "// 1 v\n",
    "// 2 w\n",
    "// 3 p\n",
    "// 4 q\n",
    "// 5 r\n",
    "\n",
    "let mut x = SVector::<f64, 6>::zeros();\n",
    "let mut x_dot = SVector::<f64, 6>::zeros();\n",
    "\n",
    "// x[4] = 20.0 * std::f64::consts::PI / 180.0;\n",
    "x[5] = 10.0 * std::f64::consts::PI / 180.0;"
   ]
  },
  {
   "cell_type": "code",
   "execution_count": 75,
   "id": "b449ca5e-8c90-47ae-9ec8-906057942bf0",
   "metadata": {},
   "outputs": [],
   "source": [
    "let mass = 10.0;  // kg\n",
    "let Ixx = 0.0167; // kg m^2\n",
    "let Iyy = 0.0833; // kg m^2\n",
    "let Izz = 0.125;  // kg m^2\n",
    "let Ixy = 0.0;\n",
    "let Ixz = 0.0;\n",
    "let Iyz = 0.0;\n",
    "\n",
    "let I = SMatrix::<f64, 3, 3>::new(\n",
    "    Ixx, -Ixy, -Ixz,\n",
    "    -Ixy, Iyy, -Iyz,\n",
    "    -Ixz, -Iyz, Izz\n",
    ");\n",
    "\n",
    "let I_inv = I.try_inverse().unwrap();\n",
    "\n",
    "\n"
   ]
  },
  {
   "cell_type": "code",
   "execution_count": 74,
   "id": "3209e8d8-aeea-4102-b245-f6cfcb91bba3",
   "metadata": {},
   "outputs": [],
   "source": [
    "let Fx = 10.0; // N\n",
    "let Fy = 0.0; // N\n",
    "let Fz = 0.0; // N\n",
    "\n",
    "let Mx = 0.0;\n",
    "let My = 0.0;\n",
    "let Mz = 0.0;\n",
    "\n",
    "let F = SVector::<f64, 3>::new(Fx, Fy, Fz);\n",
    "let M = SVector::<f64, 3>::new(Mx, My, Mz);\n",
    "\n",
    "// I'll try to do the coriolis stuff here\n",
    "let omega = SVector::<f64, 3>::new(x[3], x[4], x[5]);\n",
    "let part1 = I * omega;\n",
    "let coriolis = omega.cross(&part1);\n",
    "\n",
    "let omega_dot = I_inv * (M - coriolis);\n",
    "\n",
    "x_dot[0] = (Fx / mass) + x[2] * x[4] - x[1] * x[5];\n",
    "x_dot[1] = (Fy / mass) + x[0] * x[5] - x[2] * x[3];\n",
    "x_dot[2] = (Fz / mass) + x[1] * x[3] - x[0] * x[4];\n",
    "x_dot[3] = omega_dot[0];\n",
    "x_dot[4] = omega_dot[1];\n",
    "x_dot[5] = omega_dot[2];"
   ]
  },
  {
   "cell_type": "code",
   "execution_count": 73,
   "id": "5b66bfd5-090b-43e4-824f-138bc2801f67",
   "metadata": {},
   "outputs": [
    {
     "name": "stdout",
     "output_type": "stream",
     "text": [
      "\n",
      "  ┌   ┐\n",
      "  │ 1 │\n",
      "  │ 0 │\n",
      "  │ 0 │\n",
      "  │ 0 │\n",
      "  │ 0 │\n",
      "  │ 0 │\n",
      "  └   ┘\n",
      "\n",
      "\n"
     ]
    }
   ],
   "source": [
    "println!(\"{}\", x_dot);\n"
   ]
  },
  {
   "cell_type": "code",
   "execution_count": 131,
   "id": "b8af7609-0a3a-447c-895d-96b765c4b0c5",
   "metadata": {},
   "outputs": [],
   "source": [
    "#[derive(Debug)]\n",
    "struct RigidBody {\n",
    "    mass: f64,\n",
    "    I: SMatrix::<f64, 3, 3>,\n",
    "    I_inv: SMatrix::<f64, 3, 3>,\n",
    "    x: SVector::<f64, 6>,\n",
    "}\n",
    "\n",
    "impl RigidBody {\n",
    "    fn new(I: SMatrix::<f64, 3, 3>, mass: f64, initial_state: SVector::<f64, 6>) -> Self {\n",
    "\n",
    "        let I_inv = I.try_inverse().unwrap();\n",
    "        \n",
    "        Self {\n",
    "            mass,\n",
    "            I,\n",
    "            I_inv,\n",
    "            x: initial_state,\n",
    "        }\n",
    "    }\n",
    "\n",
    "    fn calculate_state_derivative(&self, x: &SVector::<f64, 6>, F: &SVector::<f64, 3>, M: &SVector::<f64, 3>) -> SVector::<f64, 6> {\n",
    "        // I'll try to do the coriolis stuff here\n",
    "        let omega = SVector::<f64, 3>::new(x[3], x[4], x[5]);\n",
    "        let part1 = self.I * omega;\n",
    "        let coriolis = omega.cross(&part1);\n",
    "        \n",
    "        let omega_dot = self.I_inv * (M - coriolis);\n",
    "\n",
    "        let mut x_dot = SVector::<f64, 6>::zeros();\n",
    "        x_dot[0] = (F[0] / self.mass) + x[2] * x[4] - x[1] * x[5];\n",
    "        x_dot[1] = (F[1] / self.mass) + x[0] * x[5] - x[2] * x[3];\n",
    "        x_dot[2] = (F[2] / self.mass) + x[1] * x[3] - x[0] * x[4];\n",
    "        x_dot[3] = omega_dot[0];\n",
    "        x_dot[4] = omega_dot[1];\n",
    "        x_dot[5] = omega_dot[2];\n",
    "        x_dot\n",
    "    }\n",
    "\n",
    "    fn propagate_state(&self, dt: f64, F: &SVector::<f64, 3>, M: &SVector::<f64, 3>) -> SVector::<f64, 6> {\n",
    "        // Runge Kutta\n",
    "\n",
    "        let x = self.x.clone();\n",
    "        let k1 = self.calculate_state_derivative(&x, F, M);\n",
    "        \n",
    "        let x1 = x + (0.5 * dt) * k1;\n",
    "        let k2 = self.calculate_state_derivative(&x1, F, M);\n",
    "        \n",
    "        let x2 = x + (0.5 * dt) * k2;\n",
    "        let k3 = self.calculate_state_derivative(&x2, F, M);\n",
    "        \n",
    "        let x3 = x + dt * k3;\n",
    "        let k4 = self.calculate_state_derivative(&x3, F, M);\n",
    "        \n",
    "        let x4 = x + (dt / 6.0) * (k1 + 2.0 * k2 + 2.0 * k3 + k4);\n",
    "\n",
    "        x4\n",
    "        \n",
    "    }\n",
    "\n",
    "    fn run(&mut self, steps: u64, dt: f64) {\n",
    "        let Fx = 0.0; // N\n",
    "        let Fy = 0.0; // N\n",
    "        let Fz = 0.0; // N\n",
    "        \n",
    "        let Mx = 0.0;\n",
    "        let My = 0.0;\n",
    "        let Mz = 0.0;\n",
    "        \n",
    "        let F = SVector::<f64, 3>::new(Fx, Fy, Fz);\n",
    "        let M = SVector::<f64, 3>::new(Mx, My, Mz);\n",
    "\n",
    "        for i in 0..steps {\n",
    "            self.x = self.propagate_state(dt, &F, &M);\n",
    "        }\n",
    "    }\n",
    "}"
   ]
  },
  {
   "cell_type": "code",
   "execution_count": 134,
   "id": "340addaa-956b-417b-9fa5-a94104b0976d",
   "metadata": {},
   "outputs": [
    {
     "data": {
      "text/plain": [
       "[[7.968559527504748e-10, 0.9999999999895686, 0.0, 0.0, 0.0, 1.5707963267948966]]"
      ]
     },
     "execution_count": 134,
     "metadata": {},
     "output_type": "execute_result"
    }
   ],
   "source": [
    "let mut initial_state = SVector::<f64, 6>::zeros();\n",
    "initial_state[0] = 1.0;\n",
    "initial_state[5] = 90.0 * std::f64::consts::PI / 180.0;\n",
    "let mut body = RigidBody::new(I, mass, initial_state);\n",
    "body.run(100, 0.01);\n",
    "body.x"
   ]
  },
  {
   "cell_type": "code",
   "execution_count": null,
   "id": "cb2088f3-b85f-4fc8-9c27-cc3e98d78867",
   "metadata": {},
   "outputs": [],
   "source": []
  }
 ],
 "metadata": {
  "kernelspec": {
   "display_name": "Rust",
   "language": "rust",
   "name": "rust"
  },
  "language_info": {
   "codemirror_mode": "rust",
   "file_extension": ".rs",
   "mimetype": "text/rust",
   "name": "Rust",
   "pygment_lexer": "rust",
   "version": ""
  }
 },
 "nbformat": 4,
 "nbformat_minor": 5
}
